{
 "cells": [
  {
   "cell_type": "code",
   "execution_count": 1,
   "metadata": {},
   "outputs": [],
   "source": [
    "import random\n",
    "import pandas as pd\n",
    "import numpy as np\n",
    "import seaborn as sns\n",
    "import matplotlib.pyplot as plt\n",
    "\n",
    "import sklearn\n",
    "from sklearn.manifold import TSNE\n",
    "from sklearn.model_selection import train_test_split\n",
    "\n",
    "# fix macos n_job>1 bugs\n",
    "import multiprocessing\n",
    "multiprocessing.set_start_method('forkserver')\n",
    "import warnings\n",
    "warnings.filterwarnings('ignore')\n",
    "\n",
    "%matplotlib inline\n",
    "%load_ext autoreload\n",
    "%autoreload 2"
   ]
  },
  {
   "cell_type": "markdown",
   "metadata": {},
   "source": [
    "Load local python scripts."
   ]
  },
  {
   "cell_type": "code",
   "execution_count": 2,
   "metadata": {},
   "outputs": [],
   "source": [
    "#plot model evaluation metrics\n",
    "from plotting import *\n",
    "\n",
    "#data exploration functions\n",
    "from data_exploration import *\n",
    "\n",
    "#data pre-processing functions\n",
    "from pre_processing import *\n",
    "\n",
    "#classifiers and cross-validation\n",
    "from classifiers import *"
   ]
  },
  {
   "cell_type": "markdown",
   "metadata": {},
   "source": [
    "##  Dataset\n",
    "Load data from disk and store as pandas dataframe."
   ]
  },
  {
   "cell_type": "code",
   "execution_count": 3,
   "metadata": {},
   "outputs": [],
   "source": [
    "#data sets\n",
    "DATA_PATH = 'dataset/'\n",
    "OUTPUT_PATH = None\n",
    "FILE_NAME = 'city_search.json'"
   ]
  },
  {
   "cell_type": "code",
   "execution_count": 4,
   "metadata": {},
   "outputs": [],
   "source": [
    "df = pd.read_json(DATA_PATH+FILE_NAME)\n",
    "df['session_id'] = df.session_id.map(lambda x:x[0])\n",
    "df['unix_timestamp'] = df.unix_timestamp.map(lambda x:x[0])\n",
    "df['cities'] = df.cities.map(lambda x:x[0])\n",
    "df['len'] = df.cities.map(lambda x:len(x.split(',')))\n",
    "df['user_id'] = df.user.map(lambda x:x[0][0]['user_id'])\n",
    "df['joining_date'] = df.user.map(lambda x:x[0][0]['joining_date'])\n",
    "df['country'] = df.user.map(lambda x:x[0][0]['country'])\n",
    "df = df.drop('user',axis=1)\n",
    "df = df.replace({'' : 'UNK'})"
   ]
  },
  {
   "cell_type": "code",
   "execution_count": 5,
   "metadata": {},
   "outputs": [
    {
     "name": "stdout",
     "output_type": "stream",
     "text": [
      "<class 'pandas.core.frame.DataFrame'>\n",
      "RangeIndex: 20022 entries, 0 to 20021\n",
      "Data columns (total 7 columns):\n",
      " #   Column          Non-Null Count  Dtype \n",
      "---  ------          --------------  ----- \n",
      " 0   session_id      20022 non-null  object\n",
      " 1   unix_timestamp  20022 non-null  int64 \n",
      " 2   cities          20022 non-null  object\n",
      " 3   len             20022 non-null  int64 \n",
      " 4   user_id         20022 non-null  int64 \n",
      " 5   joining_date    20022 non-null  object\n",
      " 6   country         20022 non-null  object\n",
      "dtypes: int64(3), object(4)\n",
      "memory usage: 1.1+ MB\n"
     ]
    }
   ],
   "source": [
    "df.info()"
   ]
  },
  {
   "cell_type": "markdown",
   "metadata": {},
   "source": [
    "Users have unique country."
   ]
  },
  {
   "cell_type": "code",
   "execution_count": 6,
   "metadata": {},
   "outputs": [
    {
     "name": "stdout",
     "output_type": "stream",
     "text": [
      "0\n"
     ]
    }
   ],
   "source": [
    "non_missing = df[df.country!=''].user_id.to_list()\n",
    "missing = df[df.country==''].user_id.to_list()\n",
    "overlap = [m for m in missing if m in non_missing]\n",
    "print(len(overlap))"
   ]
  },
  {
   "cell_type": "markdown",
   "metadata": {},
   "source": [
    "Treat each country as a different feature, flatten data into one-hot vector."
   ]
  },
  {
   "cell_type": "code",
   "execution_count": 7,
   "metadata": {},
   "outputs": [],
   "source": [
    "all_city_names = set()\n",
    "for row in df.cities.to_list():\n",
    "    names = row.split(', ')\n",
    "    for name in names:\n",
    "        all_city_names.add(name)\n",
    "\n",
    "all_city_names = sorted(list(all_city_names))\n",
    "new_rows = np.zeros((df.shape[0],len(all_city_names)))\n",
    "\n",
    "for i,row in enumerate(df.cities.to_list()):\n",
    "    names = row.split(', ')\n",
    "    for name in names:\n",
    "        index = all_city_names.index(name)\n",
    "        new_rows[i,index] = 1\n",
    "\n",
    "df_one_hot = pd.DataFrame(new_rows, columns=all_city_names)\n",
    "df_one_hot['user_id'] = df.user_id\n",
    "df_one_hot['joining_date'] = df.joining_date\n",
    "df_one_hot['country'] = df.country"
   ]
  },
  {
   "cell_type": "markdown",
   "metadata": {},
   "source": [
    "## Task 2"
   ]
  },
  {
   "cell_type": "markdown",
   "metadata": {},
   "source": [
    "### 2.1 Frequent Itemset\n",
    "Find frequent itemset among all search sessions using Aprior, predict next search city based on assosiation rules with confidence."
   ]
  },
  {
   "cell_type": "code",
   "execution_count": 8,
   "metadata": {},
   "outputs": [
    {
     "name": "stdout",
     "output_type": "stream",
     "text": [
      "826\n"
     ]
    }
   ],
   "source": [
    "import mlxtend\n",
    "from mlxtend.frequent_patterns import apriori\n",
    "from mlxtend.frequent_patterns import association_rules\n",
    "from mlxtend.preprocessing import TransactionEncoder\n",
    "\n",
    "df2 = df[df.len>1]\n",
    "df3 = df[df.len>2]\n",
    "df4 = df[df.len>3]\n",
    "\n",
    "dataset = [c.split(', ')for c in df4.cities.to_list()]\n",
    "print(len(dataset))\n",
    "\n",
    "te = TransactionEncoder()\n",
    "te_ary = te.fit(dataset).transform(dataset)\n",
    "te_df = pd.DataFrame(te_ary, columns=te.columns_)"
   ]
  },
  {
   "cell_type": "code",
   "execution_count": 9,
   "metadata": {},
   "outputs": [
    {
     "data": {
      "text/html": [
       "<div>\n",
       "<style scoped>\n",
       "    .dataframe tbody tr th:only-of-type {\n",
       "        vertical-align: middle;\n",
       "    }\n",
       "\n",
       "    .dataframe tbody tr th {\n",
       "        vertical-align: top;\n",
       "    }\n",
       "\n",
       "    .dataframe thead th {\n",
       "        text-align: right;\n",
       "    }\n",
       "</style>\n",
       "<table border=\"1\" class=\"dataframe\">\n",
       "  <thead>\n",
       "    <tr style=\"text-align: right;\">\n",
       "      <th></th>\n",
       "      <th>support</th>\n",
       "      <th>itemsets</th>\n",
       "    </tr>\n",
       "  </thead>\n",
       "  <tbody>\n",
       "    <tr>\n",
       "      <th>0</th>\n",
       "      <td>0.110169</td>\n",
       "      <td>(Anaheim CA)</td>\n",
       "    </tr>\n",
       "    <tr>\n",
       "      <th>1</th>\n",
       "      <td>0.053269</td>\n",
       "      <td>(Arlington TX)</td>\n",
       "    </tr>\n",
       "    <tr>\n",
       "      <th>2</th>\n",
       "      <td>0.061743</td>\n",
       "      <td>(Austin TX)</td>\n",
       "    </tr>\n",
       "    <tr>\n",
       "      <th>3</th>\n",
       "      <td>0.012107</td>\n",
       "      <td>(Bakersfield CA)</td>\n",
       "    </tr>\n",
       "    <tr>\n",
       "      <th>4</th>\n",
       "      <td>0.123487</td>\n",
       "      <td>(Baltimore MD)</td>\n",
       "    </tr>\n",
       "    <tr>\n",
       "      <th>...</th>\n",
       "      <td>...</td>\n",
       "      <td>...</td>\n",
       "    </tr>\n",
       "    <tr>\n",
       "      <th>527</th>\n",
       "      <td>0.010896</td>\n",
       "      <td>(Los Angeles CA, Santa Ana CA, San Diego CA, L...</td>\n",
       "    </tr>\n",
       "    <tr>\n",
       "      <th>528</th>\n",
       "      <td>0.025424</td>\n",
       "      <td>(Baltimore MD, Newark NJ, Jersey City NJ, New ...</td>\n",
       "    </tr>\n",
       "    <tr>\n",
       "      <th>529</th>\n",
       "      <td>0.012107</td>\n",
       "      <td>(Baltimore MD, Newark NJ, New York NY, WASHING...</td>\n",
       "    </tr>\n",
       "    <tr>\n",
       "      <th>530</th>\n",
       "      <td>0.012107</td>\n",
       "      <td>(Oshawa ON, Toronto ON, Saint Catharines-Niaga...</td>\n",
       "    </tr>\n",
       "    <tr>\n",
       "      <th>531</th>\n",
       "      <td>0.010896</td>\n",
       "      <td>(Oshawa ON, Montreal QC, Toronto ON, OTTAWA ON...</td>\n",
       "    </tr>\n",
       "  </tbody>\n",
       "</table>\n",
       "<p>532 rows × 2 columns</p>\n",
       "</div>"
      ],
      "text/plain": [
       "      support                                           itemsets\n",
       "0    0.110169                                       (Anaheim CA)\n",
       "1    0.053269                                     (Arlington TX)\n",
       "2    0.061743                                        (Austin TX)\n",
       "3    0.012107                                   (Bakersfield CA)\n",
       "4    0.123487                                     (Baltimore MD)\n",
       "..        ...                                                ...\n",
       "527  0.010896  (Los Angeles CA, Santa Ana CA, San Diego CA, L...\n",
       "528  0.025424  (Baltimore MD, Newark NJ, Jersey City NJ, New ...\n",
       "529  0.012107  (Baltimore MD, Newark NJ, New York NY, WASHING...\n",
       "530  0.012107  (Oshawa ON, Toronto ON, Saint Catharines-Niaga...\n",
       "531  0.010896  (Oshawa ON, Montreal QC, Toronto ON, OTTAWA ON...\n",
       "\n",
       "[532 rows x 2 columns]"
      ]
     },
     "execution_count": 9,
     "metadata": {},
     "output_type": "execute_result"
    }
   ],
   "source": [
    "frequent_itemsets = apriori(te_df, min_support=0.01, use_colnames=True)\n",
    "frequent_itemsets"
   ]
  },
  {
   "cell_type": "code",
   "execution_count": 10,
   "metadata": {},
   "outputs": [],
   "source": [
    "rules = association_rules(frequent_itemsets, metric=\"confidence\", min_threshold=0.01)"
   ]
  },
  {
   "cell_type": "code",
   "execution_count": 11,
   "metadata": {},
   "outputs": [
    {
     "data": {
      "text/html": [
       "<div>\n",
       "<style scoped>\n",
       "    .dataframe tbody tr th:only-of-type {\n",
       "        vertical-align: middle;\n",
       "    }\n",
       "\n",
       "    .dataframe tbody tr th {\n",
       "        vertical-align: top;\n",
       "    }\n",
       "\n",
       "    .dataframe thead th {\n",
       "        text-align: right;\n",
       "    }\n",
       "</style>\n",
       "<table border=\"1\" class=\"dataframe\">\n",
       "  <thead>\n",
       "    <tr style=\"text-align: right;\">\n",
       "      <th></th>\n",
       "      <th>antecedents</th>\n",
       "      <th>consequents</th>\n",
       "      <th>antecedent support</th>\n",
       "      <th>consequent support</th>\n",
       "      <th>support</th>\n",
       "      <th>confidence</th>\n",
       "      <th>lift</th>\n",
       "      <th>leverage</th>\n",
       "      <th>conviction</th>\n",
       "    </tr>\n",
       "  </thead>\n",
       "  <tbody>\n",
       "    <tr>\n",
       "      <th>0</th>\n",
       "      <td>(Long Beach CA)</td>\n",
       "      <td>(Anaheim CA)</td>\n",
       "      <td>0.096852</td>\n",
       "      <td>0.110169</td>\n",
       "      <td>0.070218</td>\n",
       "      <td>0.725000</td>\n",
       "      <td>6.580769</td>\n",
       "      <td>0.059548</td>\n",
       "      <td>3.235747</td>\n",
       "    </tr>\n",
       "    <tr>\n",
       "      <th>1</th>\n",
       "      <td>(Anaheim CA)</td>\n",
       "      <td>(Long Beach CA)</td>\n",
       "      <td>0.110169</td>\n",
       "      <td>0.096852</td>\n",
       "      <td>0.070218</td>\n",
       "      <td>0.637363</td>\n",
       "      <td>6.580769</td>\n",
       "      <td>0.059548</td>\n",
       "      <td>2.490498</td>\n",
       "    </tr>\n",
       "    <tr>\n",
       "      <th>2</th>\n",
       "      <td>(Anaheim CA)</td>\n",
       "      <td>(Los Angeles CA)</td>\n",
       "      <td>0.110169</td>\n",
       "      <td>0.133172</td>\n",
       "      <td>0.087167</td>\n",
       "      <td>0.791209</td>\n",
       "      <td>5.941259</td>\n",
       "      <td>0.072496</td>\n",
       "      <td>4.151650</td>\n",
       "    </tr>\n",
       "    <tr>\n",
       "      <th>3</th>\n",
       "      <td>(Los Angeles CA)</td>\n",
       "      <td>(Anaheim CA)</td>\n",
       "      <td>0.133172</td>\n",
       "      <td>0.110169</td>\n",
       "      <td>0.087167</td>\n",
       "      <td>0.654545</td>\n",
       "      <td>5.941259</td>\n",
       "      <td>0.072496</td>\n",
       "      <td>2.575825</td>\n",
       "    </tr>\n",
       "    <tr>\n",
       "      <th>4</th>\n",
       "      <td>(Anaheim CA)</td>\n",
       "      <td>(Riverside CA)</td>\n",
       "      <td>0.110169</td>\n",
       "      <td>0.088378</td>\n",
       "      <td>0.069007</td>\n",
       "      <td>0.626374</td>\n",
       "      <td>7.087460</td>\n",
       "      <td>0.059271</td>\n",
       "      <td>2.439930</td>\n",
       "    </tr>\n",
       "    <tr>\n",
       "      <th>...</th>\n",
       "      <td>...</td>\n",
       "      <td>...</td>\n",
       "      <td>...</td>\n",
       "      <td>...</td>\n",
       "      <td>...</td>\n",
       "      <td>...</td>\n",
       "      <td>...</td>\n",
       "      <td>...</td>\n",
       "      <td>...</td>\n",
       "    </tr>\n",
       "    <tr>\n",
       "      <th>2681</th>\n",
       "      <td>(Oshawa ON)</td>\n",
       "      <td>(OTTAWA ON, Montreal QC, Saint Catharines-Niag...</td>\n",
       "      <td>0.118644</td>\n",
       "      <td>0.015738</td>\n",
       "      <td>0.010896</td>\n",
       "      <td>0.091837</td>\n",
       "      <td>5.835165</td>\n",
       "      <td>0.009029</td>\n",
       "      <td>1.083794</td>\n",
       "    </tr>\n",
       "    <tr>\n",
       "      <th>2682</th>\n",
       "      <td>(Montreal QC)</td>\n",
       "      <td>(OTTAWA ON, Saint Catharines-Niagara ON, Toron...</td>\n",
       "      <td>0.107748</td>\n",
       "      <td>0.016949</td>\n",
       "      <td>0.010896</td>\n",
       "      <td>0.101124</td>\n",
       "      <td>5.966292</td>\n",
       "      <td>0.009070</td>\n",
       "      <td>1.093644</td>\n",
       "    </tr>\n",
       "    <tr>\n",
       "      <th>2683</th>\n",
       "      <td>(Toronto ON)</td>\n",
       "      <td>(OTTAWA ON, Montreal QC, Saint Catharines-Niag...</td>\n",
       "      <td>0.159806</td>\n",
       "      <td>0.014528</td>\n",
       "      <td>0.010896</td>\n",
       "      <td>0.068182</td>\n",
       "      <td>4.693182</td>\n",
       "      <td>0.008574</td>\n",
       "      <td>1.057580</td>\n",
       "    </tr>\n",
       "    <tr>\n",
       "      <th>2684</th>\n",
       "      <td>(OTTAWA ON)</td>\n",
       "      <td>(Montreal QC, Saint Catharines-Niagara ON, Tor...</td>\n",
       "      <td>0.064165</td>\n",
       "      <td>0.015738</td>\n",
       "      <td>0.010896</td>\n",
       "      <td>0.169811</td>\n",
       "      <td>10.789550</td>\n",
       "      <td>0.009886</td>\n",
       "      <td>1.185588</td>\n",
       "    </tr>\n",
       "    <tr>\n",
       "      <th>2685</th>\n",
       "      <td>(Saint Catharines-Niagara ON)</td>\n",
       "      <td>(OTTAWA ON, Montreal QC, Toronto ON, Oshawa ON)</td>\n",
       "      <td>0.121065</td>\n",
       "      <td>0.023002</td>\n",
       "      <td>0.010896</td>\n",
       "      <td>0.090000</td>\n",
       "      <td>3.912632</td>\n",
       "      <td>0.008111</td>\n",
       "      <td>1.073624</td>\n",
       "    </tr>\n",
       "  </tbody>\n",
       "</table>\n",
       "<p>2686 rows × 9 columns</p>\n",
       "</div>"
      ],
      "text/plain": [
       "                        antecedents  \\\n",
       "0                   (Long Beach CA)   \n",
       "1                      (Anaheim CA)   \n",
       "2                      (Anaheim CA)   \n",
       "3                  (Los Angeles CA)   \n",
       "4                      (Anaheim CA)   \n",
       "...                             ...   \n",
       "2681                    (Oshawa ON)   \n",
       "2682                  (Montreal QC)   \n",
       "2683                   (Toronto ON)   \n",
       "2684                    (OTTAWA ON)   \n",
       "2685  (Saint Catharines-Niagara ON)   \n",
       "\n",
       "                                            consequents  antecedent support  \\\n",
       "0                                          (Anaheim CA)            0.096852   \n",
       "1                                       (Long Beach CA)            0.110169   \n",
       "2                                      (Los Angeles CA)            0.110169   \n",
       "3                                          (Anaheim CA)            0.133172   \n",
       "4                                        (Riverside CA)            0.110169   \n",
       "...                                                 ...                 ...   \n",
       "2681  (OTTAWA ON, Montreal QC, Saint Catharines-Niag...            0.118644   \n",
       "2682  (OTTAWA ON, Saint Catharines-Niagara ON, Toron...            0.107748   \n",
       "2683  (OTTAWA ON, Montreal QC, Saint Catharines-Niag...            0.159806   \n",
       "2684  (Montreal QC, Saint Catharines-Niagara ON, Tor...            0.064165   \n",
       "2685    (OTTAWA ON, Montreal QC, Toronto ON, Oshawa ON)            0.121065   \n",
       "\n",
       "      consequent support   support  confidence       lift  leverage  \\\n",
       "0               0.110169  0.070218    0.725000   6.580769  0.059548   \n",
       "1               0.096852  0.070218    0.637363   6.580769  0.059548   \n",
       "2               0.133172  0.087167    0.791209   5.941259  0.072496   \n",
       "3               0.110169  0.087167    0.654545   5.941259  0.072496   \n",
       "4               0.088378  0.069007    0.626374   7.087460  0.059271   \n",
       "...                  ...       ...         ...        ...       ...   \n",
       "2681            0.015738  0.010896    0.091837   5.835165  0.009029   \n",
       "2682            0.016949  0.010896    0.101124   5.966292  0.009070   \n",
       "2683            0.014528  0.010896    0.068182   4.693182  0.008574   \n",
       "2684            0.015738  0.010896    0.169811  10.789550  0.009886   \n",
       "2685            0.023002  0.010896    0.090000   3.912632  0.008111   \n",
       "\n",
       "      conviction  \n",
       "0       3.235747  \n",
       "1       2.490498  \n",
       "2       4.151650  \n",
       "3       2.575825  \n",
       "4       2.439930  \n",
       "...          ...  \n",
       "2681    1.083794  \n",
       "2682    1.093644  \n",
       "2683    1.057580  \n",
       "2684    1.185588  \n",
       "2685    1.073624  \n",
       "\n",
       "[2686 rows x 9 columns]"
      ]
     },
     "execution_count": 11,
     "metadata": {},
     "output_type": "execute_result"
    }
   ],
   "source": [
    "rules"
   ]
  },
  {
   "cell_type": "markdown",
   "metadata": {},
   "source": [
    "Make prediction by looking for frequent itemset in training set."
   ]
  },
  {
   "cell_type": "code",
   "execution_count": 12,
   "metadata": {},
   "outputs": [],
   "source": [
    "def random_query_itemset(rules):\n",
    "    query = set()\n",
    "    prev = np.random.randint(1,3)\n",
    "    for i in range(prev):\n",
    "        query.add(np.random.choice(all_city_names))\n",
    "    print('Query:', query)\n",
    "    return rules[rules['antecedents'] == frozenset(query)].sort_values(by=['confidence'],ascending=False).iloc[:5,:]"
   ]
  },
  {
   "cell_type": "code",
   "execution_count": 83,
   "metadata": {},
   "outputs": [
    {
     "name": "stdout",
     "output_type": "stream",
     "text": [
      "CPU times: user 0 ns, sys: 0 ns, total: 0 ns\n",
      "Wall time: 6.91 µs\n",
      "Query: {'Seattle WA', 'Portland OR'}\n"
     ]
    },
    {
     "data": {
      "text/html": [
       "<div>\n",
       "<style scoped>\n",
       "    .dataframe tbody tr th:only-of-type {\n",
       "        vertical-align: middle;\n",
       "    }\n",
       "\n",
       "    .dataframe tbody tr th {\n",
       "        vertical-align: top;\n",
       "    }\n",
       "\n",
       "    .dataframe thead th {\n",
       "        text-align: right;\n",
       "    }\n",
       "</style>\n",
       "<table border=\"1\" class=\"dataframe\">\n",
       "  <thead>\n",
       "    <tr style=\"text-align: right;\">\n",
       "      <th></th>\n",
       "      <th>antecedents</th>\n",
       "      <th>consequents</th>\n",
       "      <th>antecedent support</th>\n",
       "      <th>consequent support</th>\n",
       "      <th>support</th>\n",
       "      <th>confidence</th>\n",
       "      <th>lift</th>\n",
       "      <th>leverage</th>\n",
       "      <th>conviction</th>\n",
       "    </tr>\n",
       "  </thead>\n",
       "  <tbody>\n",
       "    <tr>\n",
       "      <th>1505</th>\n",
       "      <td>(Seattle WA, Portland OR)</td>\n",
       "      <td>(Vancouver BC)</td>\n",
       "      <td>0.044794</td>\n",
       "      <td>0.082324</td>\n",
       "      <td>0.039952</td>\n",
       "      <td>0.891892</td>\n",
       "      <td>10.833863</td>\n",
       "      <td>0.036264</td>\n",
       "      <td>8.488499</td>\n",
       "    </tr>\n",
       "    <tr>\n",
       "      <th>1511</th>\n",
       "      <td>(Seattle WA, Portland OR)</td>\n",
       "      <td>(Victoria BC)</td>\n",
       "      <td>0.044794</td>\n",
       "      <td>0.077482</td>\n",
       "      <td>0.033898</td>\n",
       "      <td>0.756757</td>\n",
       "      <td>9.766892</td>\n",
       "      <td>0.030428</td>\n",
       "      <td>3.792575</td>\n",
       "    </tr>\n",
       "    <tr>\n",
       "      <th>2498</th>\n",
       "      <td>(Seattle WA, Portland OR)</td>\n",
       "      <td>(Victoria BC, Vancouver BC)</td>\n",
       "      <td>0.044794</td>\n",
       "      <td>0.070218</td>\n",
       "      <td>0.030266</td>\n",
       "      <td>0.675676</td>\n",
       "      <td>9.622554</td>\n",
       "      <td>0.027121</td>\n",
       "      <td>2.866828</td>\n",
       "    </tr>\n",
       "    <tr>\n",
       "      <th>832</th>\n",
       "      <td>(Seattle WA, Portland OR)</td>\n",
       "      <td>(Calgary AB)</td>\n",
       "      <td>0.044794</td>\n",
       "      <td>0.054479</td>\n",
       "      <td>0.018160</td>\n",
       "      <td>0.405405</td>\n",
       "      <td>7.441441</td>\n",
       "      <td>0.015719</td>\n",
       "      <td>1.590194</td>\n",
       "    </tr>\n",
       "    <tr>\n",
       "      <th>1091</th>\n",
       "      <td>(Seattle WA, Portland OR)</td>\n",
       "      <td>(Edmonton AB)</td>\n",
       "      <td>0.044794</td>\n",
       "      <td>0.044794</td>\n",
       "      <td>0.013317</td>\n",
       "      <td>0.297297</td>\n",
       "      <td>6.636961</td>\n",
       "      <td>0.011311</td>\n",
       "      <td>1.359331</td>\n",
       "    </tr>\n",
       "  </tbody>\n",
       "</table>\n",
       "</div>"
      ],
      "text/plain": [
       "                    antecedents                  consequents  \\\n",
       "1505  (Seattle WA, Portland OR)               (Vancouver BC)   \n",
       "1511  (Seattle WA, Portland OR)                (Victoria BC)   \n",
       "2498  (Seattle WA, Portland OR)  (Victoria BC, Vancouver BC)   \n",
       "832   (Seattle WA, Portland OR)                 (Calgary AB)   \n",
       "1091  (Seattle WA, Portland OR)                (Edmonton AB)   \n",
       "\n",
       "      antecedent support  consequent support   support  confidence       lift  \\\n",
       "1505            0.044794            0.082324  0.039952    0.891892  10.833863   \n",
       "1511            0.044794            0.077482  0.033898    0.756757   9.766892   \n",
       "2498            0.044794            0.070218  0.030266    0.675676   9.622554   \n",
       "832             0.044794            0.054479  0.018160    0.405405   7.441441   \n",
       "1091            0.044794            0.044794  0.013317    0.297297   6.636961   \n",
       "\n",
       "      leverage  conviction  \n",
       "1505  0.036264    8.488499  \n",
       "1511  0.030428    3.792575  \n",
       "2498  0.027121    2.866828  \n",
       "832   0.015719    1.590194  \n",
       "1091  0.011311    1.359331  "
      ]
     },
     "execution_count": 83,
     "metadata": {},
     "output_type": "execute_result"
    }
   ],
   "source": [
    "%time\n",
    "random_query_itemset(rules)"
   ]
  },
  {
   "cell_type": "markdown",
   "metadata": {},
   "source": [
    "### 2.2 Language Model\n",
    "Build a language model based on sequence of city names, try to find the pattern inside the search sequence."
   ]
  },
  {
   "cell_type": "code",
   "execution_count": 14,
   "metadata": {},
   "outputs": [],
   "source": [
    "import torch\n",
    "from torch import nn\n",
    "from torch.nn import Linear, ReLU, Sequential\n",
    "import torch.optim as optim"
   ]
  },
  {
   "cell_type": "code",
   "execution_count": 15,
   "metadata": {},
   "outputs": [],
   "source": [
    "import sys\n",
    "sys.path.append('./word_language_model')"
   ]
  },
  {
   "cell_type": "markdown",
   "metadata": {},
   "source": [
    "#### Prepare data"
   ]
  },
  {
   "cell_type": "code",
   "execution_count": 16,
   "metadata": {},
   "outputs": [],
   "source": [
    "def save_files(cities, file_name):\n",
    "    import os\n",
    "    file_path = './word_language_model/data/city/'\n",
    "    if not os.path.exists(os.path.dirname(file_path)):\n",
    "        try:\n",
    "            os.makedirs(os.path.dirname(file_path))\n",
    "        except:\n",
    "            pass\n",
    "    with open(file_path+file_name,'w') as f:\n",
    "        for c in cities:\n",
    "            row = ', '.join(c.split(', ')[:-1]+c.split(',')[-1:])+',\\n'\n",
    "            f.write(row)"
   ]
  },
  {
   "cell_type": "code",
   "execution_count": 17,
   "metadata": {},
   "outputs": [],
   "source": [
    "cities = df[df.len>=3].cities.to_list()\n",
    "train,test = train_test_split(cities, test_size=0.3, random_state=0)\n",
    "train,valid = train_test_split(train, test_size=0.1, random_state=0)"
   ]
  },
  {
   "cell_type": "code",
   "execution_count": 18,
   "metadata": {},
   "outputs": [],
   "source": [
    "save_files(train,'train.txt')\n",
    "save_files(valid,'valid.txt')\n",
    "save_files(test,'test.txt')"
   ]
  },
  {
   "cell_type": "markdown",
   "metadata": {},
   "source": [
    "#### Train model\n",
    "Load data from disk, save final model back to disk."
   ]
  },
  {
   "cell_type": "code",
   "execution_count": 19,
   "metadata": {},
   "outputs": [
    {
     "name": "stdout",
     "output_type": "stream",
     "text": [
      "-----------------------------------------------------------------------------------------\n",
      "| end of epoch   1 | time:  1.60s | valid loss  4.20 | valid perplexity    66.78\n",
      "-----------------------------------------------------------------------------------------\n",
      "-----------------------------------------------------------------------------------------\n",
      "| end of epoch   2 | time:  1.60s | valid loss  3.53 | valid perplexity    34.13\n",
      "-----------------------------------------------------------------------------------------\n",
      "-----------------------------------------------------------------------------------------\n",
      "| end of epoch   3 | time:  1.68s | valid loss  2.33 | valid perplexity    10.26\n",
      "-----------------------------------------------------------------------------------------\n",
      "-----------------------------------------------------------------------------------------\n",
      "| end of epoch   4 | time:  1.66s | valid loss  1.63 | valid perplexity     5.09\n",
      "-----------------------------------------------------------------------------------------\n",
      "-----------------------------------------------------------------------------------------\n",
      "| end of epoch   5 | time:  1.64s | valid loss  1.32 | valid perplexity     3.75\n",
      "-----------------------------------------------------------------------------------------\n",
      "-----------------------------------------------------------------------------------------\n",
      "| end of epoch   6 | time:  1.61s | valid loss  1.14 | valid perplexity     3.14\n",
      "-----------------------------------------------------------------------------------------\n",
      "-----------------------------------------------------------------------------------------\n",
      "| end of epoch   7 | time:  1.65s | valid loss  1.11 | valid perplexity     3.02\n",
      "-----------------------------------------------------------------------------------------\n",
      "-----------------------------------------------------------------------------------------\n",
      "| end of epoch   8 | time:  1.64s | valid loss  1.03 | valid perplexity     2.80\n",
      "-----------------------------------------------------------------------------------------\n",
      "-----------------------------------------------------------------------------------------\n",
      "| end of epoch   9 | time:  1.63s | valid loss  1.02 | valid perplexity     2.78\n",
      "-----------------------------------------------------------------------------------------\n",
      "-----------------------------------------------------------------------------------------\n",
      "| end of epoch  10 | time:  1.67s | valid loss  1.03 | valid perplexity     2.79\n",
      "-----------------------------------------------------------------------------------------\n",
      "-----------------------------------------------------------------------------------------\n",
      "| end of epoch  11 | time:  1.65s | valid loss  0.94 | valid perplexity     2.56\n",
      "-----------------------------------------------------------------------------------------\n",
      "-----------------------------------------------------------------------------------------\n",
      "| end of epoch  12 | time:  1.61s | valid loss  0.94 | valid perplexity     2.56\n",
      "-----------------------------------------------------------------------------------------\n",
      "-----------------------------------------------------------------------------------------\n",
      "| end of epoch  13 | time:  1.63s | valid loss  0.94 | valid perplexity     2.55\n",
      "-----------------------------------------------------------------------------------------\n",
      "-----------------------------------------------------------------------------------------\n",
      "| end of epoch  14 | time:  1.60s | valid loss  0.94 | valid perplexity     2.56\n",
      "-----------------------------------------------------------------------------------------\n",
      "-----------------------------------------------------------------------------------------\n",
      "| end of epoch  15 | time:  1.59s | valid loss  0.93 | valid perplexity     2.54\n",
      "-----------------------------------------------------------------------------------------\n",
      "=========================================================================================\n",
      "| End of training | test loss  0.89 | test perplexity     2.45\n",
      "=========================================================================================\n"
     ]
    }
   ],
   "source": [
    "# !python word_language_model/main.py \\\n",
    "# --data './word_language_model/data/city' --save './word_language_model/model.pt' \\\n",
    "# --emsize 650 --nhid 650 --dropout 0.5 --epochs 12 --tied\n",
    "\n",
    "!python word_language_model/main.py \\\n",
    "--data './word_language_model/data/city' \\\n",
    "--save './word_language_model/model.pt' --epochs 15"
   ]
  },
  {
   "cell_type": "markdown",
   "metadata": {},
   "source": [
    "#### Predict next city\n",
    "Load trained model to predict next city based on the given sequence of cities.\n"
   ]
  },
  {
   "cell_type": "code",
   "execution_count": 20,
   "metadata": {},
   "outputs": [],
   "source": [
    "test_lines = None\n",
    "train_lines = None\n",
    "\n",
    "with open('./word_language_model/data/city/test.txt') as f:\n",
    "    test_lines = f.readlines()\n",
    "    \n",
    "with open('./word_language_model/data/city/train.txt') as f:\n",
    "    train_lines = f.readlines()    "
   ]
  },
  {
   "cell_type": "code",
   "execution_count": 21,
   "metadata": {},
   "outputs": [],
   "source": [
    "import data\n",
    "\n",
    "device = torch.device(\"cuda\" if torch.cuda.is_available() else \"cpu\")\n",
    "\n",
    "with open('./word_language_model/model.pt', 'rb') as f:\n",
    "    model = torch.load(f).to(device)\n",
    "model.eval()\n",
    "\n",
    "corpus = data.Corpus('./word_language_model/data/city')\n",
    "ntokens = len(corpus.dictionary)"
   ]
  },
  {
   "cell_type": "code",
   "execution_count": 22,
   "metadata": {},
   "outputs": [],
   "source": [
    "def predict_last_city(given_cities):    \n",
    "    hidden = model.init_hidden(1)\n",
    "    input = None\n",
    "    next_city = []\n",
    "\n",
    "    with torch.no_grad():\n",
    "        for p in given_cities[:-1]:\n",
    "            index = corpus.dictionary.word2idx[p]\n",
    "            input = torch.randint(index,index+1, (1, 1), dtype=torch.long).to(device)\n",
    "            _, hidden = model(input, hidden)\n",
    "            \n",
    "        index = corpus.dictionary.word2idx[given_cities[-1]]\n",
    "        input = torch.randint(index,index+1, (1, 1), dtype=torch.long).to(device)            \n",
    "        while True:\n",
    "            output, hidden = model(input, hidden)\n",
    "            word_weights = output.squeeze().div(1.0).exp().cpu()\n",
    "            word_idx = torch.multinomial(word_weights, 1)[0]\n",
    "            input.fill_(word_idx)\n",
    "            word = corpus.dictionary.idx2word[word_idx]\n",
    "            if word == '<eos>':\n",
    "                if len(next_city)==0:\n",
    "                    continue\n",
    "                else:\n",
    "                    break\n",
    "            next_city.append(word)\n",
    "                \n",
    "        return next_city\n",
    "\n",
    "def random_query(lines):\n",
    "    line = np.random.choice(lines)\n",
    "    query = line.split('  ')[0].split()\n",
    "    true = line.split('  ')[-1][:-1]\n",
    "    pred = ' '.join(predict_last_city(query))\n",
    "    print('Previous:',' '.join(query))\n",
    "    print('     =',true)\n",
    "    print('     >',pred)\n",
    "#     print(true in pred)"
   ]
  },
  {
   "cell_type": "code",
   "execution_count": 92,
   "metadata": {},
   "outputs": [
    {
     "name": "stdout",
     "output_type": "stream",
     "text": [
      "Previous: New York NY, Jersey City NJ,\n",
      "     = Newark NJ,\n",
      "     > Newark NJ,\n",
      "Previous: New York NY, Baltimore MD, WASHINGTON DC,\n",
      "     = Philadelphia PA,\n",
      "     > Chicago IL, Milwaukee WI, Fort Wayne IN,\n",
      "Previous: Houston TX, Dallas TX,\n",
      "     = Austin TX,\n",
      "     > Plano TX,\n",
      "\n",
      "Previous: Dallas TX, Arlington TX,\n",
      "     = Fort Worth TX,\n",
      "     > Dallas TX, Austin TX, Fort Worth TX,\n",
      "Previous: New York NY, Jersey City NJ,\n",
      "     = Newark NJ,\n",
      "     > Los Angeles CA, Toronto ON, New York NY,\n",
      "Previous: Calgary AB, Edmonton AB, Vancouver BC, Seattle WA,\n",
      "     = Victoria BC,\n",
      "     > Toronto ON, Hamilton ON, Saint Catharines-Niagara ON, Hamilton ON,\n"
     ]
    }
   ],
   "source": [
    "random_query(train_lines)\n",
    "random_query(train_lines)\n",
    "random_query(train_lines)\n",
    "print()\n",
    "random_query(test_lines)\n",
    "random_query(test_lines)\n",
    "random_query(test_lines)"
   ]
  },
  {
   "cell_type": "markdown",
   "metadata": {},
   "source": [
    "#### Generate city sequence\n",
    "This model could also generate sequence of cities from the first city."
   ]
  },
  {
   "cell_type": "code",
   "execution_count": 24,
   "metadata": {},
   "outputs": [],
   "source": [
    "def generate_from_first(given_cities):\n",
    "    total_words = len(given_cities)\n",
    "    \n",
    "    first_word = given_cities[0]\n",
    "    index = corpus.dictionary.word2idx[first_word]\n",
    "    input = torch.randint(index,index+1, (1, 1), dtype=torch.long).to(device)\n",
    "    hidden = model.init_hidden(1)\n",
    "\n",
    "    output_words = []\n",
    "    output_words.append(first_word)\n",
    "    \n",
    "    with torch.no_grad():\n",
    "        while len(output_words)<total_words:\n",
    "            output, hidden = model(input, hidden)\n",
    "            word_weights = output.squeeze().div(1.0).exp().cpu()\n",
    "            word_idx = torch.multinomial(word_weights, 1)[0]\n",
    "            input.fill_(word_idx)\n",
    "            word = corpus.dictionary.idx2word[word_idx]\n",
    "            if word!='<eos>':\n",
    "                output_words.append(word)\n",
    "    return output_words\n",
    "\n",
    "def random_generate(lines):\n",
    "    line = np.random.choice(lines)\n",
    "    query = line.split('  ')[0].split()\n",
    "    first_word = query[0]\n",
    "    pred = generate_from_first(query)\n",
    "    print('Start:',first_word)\n",
    "    print('     =',' '.join(query))\n",
    "    print('     >',' '.join(pred))"
   ]
  },
  {
   "cell_type": "code",
   "execution_count": 94,
   "metadata": {},
   "outputs": [
    {
     "name": "stdout",
     "output_type": "stream",
     "text": [
      "Start: Vancouver\n",
      "     = Vancouver BC, Victoria BC,\n",
      "     > Vancouver BC, New York\n",
      "Start: Chicago\n",
      "     = Chicago IL, Fort Wayne IN,\n",
      "     > Chicago IL, Houston TX, Fort\n",
      "Start: Montreal\n",
      "     = Montreal QC, OTTAWA ON, Toronto ON, Oshawa ON,\n",
      "     > Montreal QC, New York NY, Newark NJ, Philadelphia\n",
      "\n",
      "Start: Philadelphia\n",
      "     = Philadelphia PA, Montreal QC,\n",
      "     > Philadelphia PA, San Antonio\n",
      "Start: Calgary\n",
      "     = Calgary AB, Portland OR, Vancouver BC,\n",
      "     > Calgary AB, Calgary AB, New York\n",
      "Start: Chicago\n",
      "     = Chicago IL, Indianapolis IN, Lexington KY,\n",
      "     > Chicago IL, Houston TX, Austin TX,\n"
     ]
    }
   ],
   "source": [
    "random_generate(train_lines)\n",
    "random_generate(train_lines)\n",
    "random_generate(train_lines)\n",
    "print()\n",
    "random_generate(test_lines)\n",
    "random_generate(test_lines)\n",
    "random_generate(test_lines)"
   ]
  },
  {
   "cell_type": "markdown",
   "metadata": {},
   "source": [
    "#### Evaluation"
   ]
  },
  {
   "cell_type": "markdown",
   "metadata": {},
   "source": [
    "##### Perplexity\n",
    "This model was trained by minimizing perplexity(cross entropy), the final results was showed above."
   ]
  },
  {
   "cell_type": "markdown",
   "metadata": {},
   "source": [
    "##### Accuracy"
   ]
  },
  {
   "cell_type": "code",
   "execution_count": 26,
   "metadata": {},
   "outputs": [
    {
     "name": "stdout",
     "output_type": "stream",
     "text": [
      "Accuracy:17.30%\n"
     ]
    }
   ],
   "source": [
    "total = 0\n",
    "correct = 0\n",
    "\n",
    "# target = train_lines\n",
    "target = test_lines\n",
    "\n",
    "for line in target:\n",
    "    query = line.split('  ')[0].split()\n",
    "    true = line.split('  ')[-1][:-1]\n",
    "    pred = ' '.join(predict_last_city(query))\n",
    "    if true in pred:\n",
    "        correct += 1\n",
    "    total +=1\n",
    "#     if total % (len(target)//5)==0:\n",
    "#         print(total)\n",
    "acc = correct*100.0 / total\n",
    "print('Accuracy:%.2f%%' % acc)"
   ]
  },
  {
   "cell_type": "markdown",
   "metadata": {},
   "source": [
    "### 2.3 Neural Machine Translation"
   ]
  },
  {
   "cell_type": "markdown",
   "metadata": {},
   "source": [
    "Treat this task as a translation task, the system translate the given sequence of search cities to another city/cities."
   ]
  },
  {
   "cell_type": "code",
   "execution_count": 8,
   "metadata": {},
   "outputs": [],
   "source": [
    "from neural_machine_translation import *"
   ]
  },
  {
   "cell_type": "markdown",
   "metadata": {},
   "source": [
    "#### Prepare data"
   ]
  },
  {
   "cell_type": "code",
   "execution_count": 9,
   "metadata": {},
   "outputs": [],
   "source": [
    "def get_city_pairs(df_tar):\n",
    "    with open('prev_city-next_city.txt','w') as f:\n",
    "        for city in df_tar.cities.to_list():\n",
    "            city_pair = city.split(', ')\n",
    "            row = city_pair\n",
    "            row = ' '.join(row[:-1])+'\\t'+row[-1]+'\\n'      \n",
    "            f.write(row)\n",
    "    return prepareData('prev_city', 'next_city')"
   ]
  },
  {
   "cell_type": "code",
   "execution_count": 10,
   "metadata": {},
   "outputs": [
    {
     "data": {
      "text/html": [
       "<div>\n",
       "<style scoped>\n",
       "    .dataframe tbody tr th:only-of-type {\n",
       "        vertical-align: middle;\n",
       "    }\n",
       "\n",
       "    .dataframe tbody tr th {\n",
       "        vertical-align: top;\n",
       "    }\n",
       "\n",
       "    .dataframe thead th {\n",
       "        text-align: right;\n",
       "    }\n",
       "</style>\n",
       "<table border=\"1\" class=\"dataframe\">\n",
       "  <thead>\n",
       "    <tr style=\"text-align: right;\">\n",
       "      <th></th>\n",
       "      <th>session_id</th>\n",
       "      <th>unix_timestamp</th>\n",
       "      <th>cities</th>\n",
       "      <th>len</th>\n",
       "      <th>user_id</th>\n",
       "      <th>joining_date</th>\n",
       "      <th>country</th>\n",
       "    </tr>\n",
       "  </thead>\n",
       "  <tbody>\n",
       "    <tr>\n",
       "      <th>0</th>\n",
       "      <td>X061RFWB06K9V</td>\n",
       "      <td>1442503708</td>\n",
       "      <td>New York NY, Newark NJ</td>\n",
       "      <td>2</td>\n",
       "      <td>2024</td>\n",
       "      <td>2015-03-22</td>\n",
       "      <td>UK</td>\n",
       "    </tr>\n",
       "    <tr>\n",
       "      <th>1</th>\n",
       "      <td>5AZ2X2A9BHH5U</td>\n",
       "      <td>1441353991</td>\n",
       "      <td>New York NY, Jersey City NJ, Philadelphia PA</td>\n",
       "      <td>3</td>\n",
       "      <td>2853</td>\n",
       "      <td>2015-03-28</td>\n",
       "      <td>DE</td>\n",
       "    </tr>\n",
       "    <tr>\n",
       "      <th>2</th>\n",
       "      <td>SHTB4IYAX4PX6</td>\n",
       "      <td>1440843490</td>\n",
       "      <td>San Antonio TX</td>\n",
       "      <td>1</td>\n",
       "      <td>10958</td>\n",
       "      <td>2015-03-06</td>\n",
       "      <td>UK</td>\n",
       "    </tr>\n",
       "    <tr>\n",
       "      <th>3</th>\n",
       "      <td>JBRB8MZGTX3M4</td>\n",
       "      <td>1427268063</td>\n",
       "      <td>Edmonton AB</td>\n",
       "      <td>1</td>\n",
       "      <td>7693</td>\n",
       "      <td>2015-03-12</td>\n",
       "      <td>IT</td>\n",
       "    </tr>\n",
       "    <tr>\n",
       "      <th>4</th>\n",
       "      <td>YJCMPURC2FL9C</td>\n",
       "      <td>1430559067</td>\n",
       "      <td>Phoenix AZ, Houston TX</td>\n",
       "      <td>2</td>\n",
       "      <td>7506</td>\n",
       "      <td>2015-02-28</td>\n",
       "      <td>UK</td>\n",
       "    </tr>\n",
       "    <tr>\n",
       "      <th>...</th>\n",
       "      <td>...</td>\n",
       "      <td>...</td>\n",
       "      <td>...</td>\n",
       "      <td>...</td>\n",
       "      <td>...</td>\n",
       "      <td>...</td>\n",
       "      <td>...</td>\n",
       "    </tr>\n",
       "    <tr>\n",
       "      <th>20017</th>\n",
       "      <td>17WJGZOEFEI4W</td>\n",
       "      <td>1430545204</td>\n",
       "      <td>Chicago IL, Montreal QC</td>\n",
       "      <td>2</td>\n",
       "      <td>4360</td>\n",
       "      <td>2015-03-21</td>\n",
       "      <td>UNK</td>\n",
       "    </tr>\n",
       "    <tr>\n",
       "      <th>20018</th>\n",
       "      <td>9HCZDQMGU5Z2G</td>\n",
       "      <td>1434444360</td>\n",
       "      <td>Chicago IL</td>\n",
       "      <td>1</td>\n",
       "      <td>2057</td>\n",
       "      <td>2015-03-22</td>\n",
       "      <td>IT</td>\n",
       "    </tr>\n",
       "    <tr>\n",
       "      <th>20019</th>\n",
       "      <td>73ZWORX75Y9A0</td>\n",
       "      <td>1438584470</td>\n",
       "      <td>Chicago IL</td>\n",
       "      <td>1</td>\n",
       "      <td>1203</td>\n",
       "      <td>2015-02-28</td>\n",
       "      <td>IT</td>\n",
       "    </tr>\n",
       "    <tr>\n",
       "      <th>20020</th>\n",
       "      <td>DMWGV9HY74G9T</td>\n",
       "      <td>1435235491</td>\n",
       "      <td>Calgary AB, New York NY</td>\n",
       "      <td>2</td>\n",
       "      <td>3699</td>\n",
       "      <td>2015-03-24</td>\n",
       "      <td>ES</td>\n",
       "    </tr>\n",
       "    <tr>\n",
       "      <th>20021</th>\n",
       "      <td>TVJS9Z6EZDPEA</td>\n",
       "      <td>1430989393</td>\n",
       "      <td>San Jose CA</td>\n",
       "      <td>1</td>\n",
       "      <td>2375</td>\n",
       "      <td>2015-03-29</td>\n",
       "      <td>DE</td>\n",
       "    </tr>\n",
       "  </tbody>\n",
       "</table>\n",
       "<p>20022 rows × 7 columns</p>\n",
       "</div>"
      ],
      "text/plain": [
       "          session_id  unix_timestamp  \\\n",
       "0      X061RFWB06K9V      1442503708   \n",
       "1      5AZ2X2A9BHH5U      1441353991   \n",
       "2      SHTB4IYAX4PX6      1440843490   \n",
       "3      JBRB8MZGTX3M4      1427268063   \n",
       "4      YJCMPURC2FL9C      1430559067   \n",
       "...              ...             ...   \n",
       "20017  17WJGZOEFEI4W      1430545204   \n",
       "20018  9HCZDQMGU5Z2G      1434444360   \n",
       "20019  73ZWORX75Y9A0      1438584470   \n",
       "20020  DMWGV9HY74G9T      1435235491   \n",
       "20021  TVJS9Z6EZDPEA      1430989393   \n",
       "\n",
       "                                             cities  len  user_id  \\\n",
       "0                            New York NY, Newark NJ    2     2024   \n",
       "1      New York NY, Jersey City NJ, Philadelphia PA    3     2853   \n",
       "2                                    San Antonio TX    1    10958   \n",
       "3                                       Edmonton AB    1     7693   \n",
       "4                            Phoenix AZ, Houston TX    2     7506   \n",
       "...                                             ...  ...      ...   \n",
       "20017                       Chicago IL, Montreal QC    2     4360   \n",
       "20018                                    Chicago IL    1     2057   \n",
       "20019                                    Chicago IL    1     1203   \n",
       "20020                       Calgary AB, New York NY    2     3699   \n",
       "20021                                   San Jose CA    1     2375   \n",
       "\n",
       "      joining_date country  \n",
       "0       2015-03-22      UK  \n",
       "1       2015-03-28      DE  \n",
       "2       2015-03-06      UK  \n",
       "3       2015-03-12      IT  \n",
       "4       2015-02-28      UK  \n",
       "...            ...     ...  \n",
       "20017   2015-03-21     UNK  \n",
       "20018   2015-03-22      IT  \n",
       "20019   2015-02-28      IT  \n",
       "20020   2015-03-24      ES  \n",
       "20021   2015-03-29      DE  \n",
       "\n",
       "[20022 rows x 7 columns]"
      ]
     },
     "execution_count": 10,
     "metadata": {},
     "output_type": "execute_result"
    }
   ],
   "source": [
    "df"
   ]
  },
  {
   "cell_type": "code",
   "execution_count": 70,
   "metadata": {},
   "outputs": [
    {
     "name": "stdout",
     "output_type": "stream",
     "text": [
      "(14015, 7) (6007, 7)\n",
      "(6563, 7) (2788, 7)\n",
      "(1727, 7) (718, 7)\n",
      "(607, 7) (219, 7)\n"
     ]
    }
   ],
   "source": [
    "df1_train,df1_test = train_test_split(df,test_size=0.3)\n",
    "print(df1_train.shape,df1_test.shape)\n",
    "\n",
    "df2_train,df2_test = df1_train[df1_train.len>=2], df1_test[df1_test.len>=2]\n",
    "print(df2_train.shape,df2_test.shape)\n",
    "\n",
    "df3_train,df3_test = df1_train[df1_train.len>=3], df1_test[df1_test.len>=3]\n",
    "print(df3_train.shape,df3_test.shape)\n",
    "\n",
    "df4_train,df4_test = df1_train[df1_train.len>=4], df1_test[df1_test.len>=4]\n",
    "print(df4_train.shape,df4_test.shape)"
   ]
  },
  {
   "cell_type": "code",
   "execution_count": 12,
   "metadata": {},
   "outputs": [
    {
     "name": "stdout",
     "output_type": "stream",
     "text": [
      "Reading lines...\n",
      "Read 6538 sentence pairs\n",
      "Trimmed to 6436 sentence pairs\n",
      "Counted words:\n",
      "prev_city 120\n",
      "next_city 126\n",
      "Random sample: ['Columbus OH', 'New York NY']\n"
     ]
    }
   ],
   "source": [
    "input_lang, output_lang, train_pairs = get_city_pairs(df3_train)\n",
    "print('Random sample:',random.choice(train_pairs))"
   ]
  },
  {
   "cell_type": "markdown",
   "metadata": {},
   "source": [
    "#### RNN(seq2seq) model + attention"
   ]
  },
  {
   "cell_type": "code",
   "execution_count": 13,
   "metadata": {},
   "outputs": [
    {
     "data": {
      "text/plain": [
       "True"
      ]
     },
     "execution_count": 13,
     "metadata": {},
     "output_type": "execute_result"
    }
   ],
   "source": [
    "encoder = EncoderRNN(input_lang.n_words, hidden_size).to(device)\n",
    "attn_decoder = AttnDecoderRNN(hidden_size, output_lang.n_words, dropout_p=0.3).to(device)\n",
    "set_global_variables(train_pairs, input_lang, output_lang, encoder, attn_decoder)"
   ]
  },
  {
   "cell_type": "markdown",
   "metadata": {},
   "source": [
    "#### Train model"
   ]
  },
  {
   "cell_type": "code",
   "execution_count": 14,
   "metadata": {},
   "outputs": [
    {
     "name": "stdout",
     "output_type": "stream",
     "text": [
      "1m 33s (left: 20m 12s) (5000 7%) 1.8359\n",
      "3m 1s (left: 18m 10s) (10000 14%) 1.4437\n",
      "4m 30s (left: 16m 30s) (15000 21%) 1.3967\n",
      "6m 1s (left: 15m 2s) (20000 28%) 1.3470\n",
      "7m 30s (left: 13m 30s) (25000 35%) 1.3147\n",
      "8m 59s (left: 11m 58s) (30000 42%) 1.3106\n",
      "10m 28s (left: 10m 28s) (35000 50%) 1.2896\n",
      "11m 58s (left: 8m 58s) (40000 57%) 1.2894\n",
      "13m 27s (left: 7m 28s) (45000 64%) 1.2633\n",
      "14m 55s (left: 5m 58s) (50000 71%) 1.2645\n",
      "16m 27s (left: 4m 29s) (55000 78%) 1.2482\n",
      "17m 55s (left: 2m 59s) (60000 85%) 1.2357\n",
      "19m 24s (left: 1m 29s) (65000 92%) 1.2455\n",
      "20m 54s (left: 0m 0s) (70000 100%) 1.2347\n",
      "Accuracy of 6436(6436): 18.40%\n"
     ]
    },
    {
     "data": {
      "text/plain": [
       "0.18396519577377252"
      ]
     },
     "execution_count": 14,
     "metadata": {},
     "output_type": "execute_result"
    },
    {
     "data": {
      "text/plain": [
       "<Figure size 432x288 with 0 Axes>"
      ]
     },
     "metadata": {},
     "output_type": "display_data"
    },
    {
     "data": {
      "image/png": "[encoded data removed]",
      "text/plain": [
       "<Figure size 432x288 with 1 Axes>"
      ]
     },
     "metadata": {
      "needs_background": "light"
     },
     "output_type": "display_data"
    }
   ],
   "source": [
    "trainIters(encoder, attn_decoder, 70000, print_every=5000, learning_rate=0.01)\n",
    "calculate_accuracy(encoder, attn_decoder, train_pairs)"
   ]
  },
  {
   "cell_type": "markdown",
   "metadata": {},
   "source": [
    "#### Evaluation\n",
    "Short query performance is bad because short sequence is common and contain less information."
   ]
  },
  {
   "cell_type": "code",
   "execution_count": 15,
   "metadata": {},
   "outputs": [
    {
     "name": "stdout",
     "output_type": "stream",
     "text": [
      "Reading lines...\n",
      "Read 2813 sentence pairs\n",
      "Trimmed to 2775 sentence pairs\n",
      "Counted words:\n",
      "prev_city 113\n",
      "next_city 117\n",
      "Accuracy of 2775(2773): 16.77%\n",
      "Reading lines...\n",
      "Read 734 sentence pairs\n",
      "Trimmed to 696 sentence pairs\n",
      "Counted words:\n",
      "prev_city 113\n",
      "next_city 112\n",
      "Accuracy of 696(694): 40.63%\n",
      "Reading lines...\n",
      "Read 231 sentence pairs\n",
      "Trimmed to 193 sentence pairs\n",
      "Counted words:\n",
      "prev_city 111\n",
      "next_city 96\n",
      "Accuracy of 193(191): 44.50%\n"
     ]
    }
   ],
   "source": [
    "_,_,test_pairs2 = get_city_pairs(df2_test) \n",
    "acc = calculate_accuracy(encoder, attn_decoder, test_pairs2)\n",
    "_,_,test_pairs3 = get_city_pairs(df3_test) \n",
    "acc = calculate_accuracy(encoder, attn_decoder, test_pairs3)\n",
    "_,_,test_pairs4 = get_city_pairs(df4_test) \n",
    "acc = calculate_accuracy(encoder, attn_decoder, test_pairs4)"
   ]
  },
  {
   "cell_type": "markdown",
   "metadata": {},
   "source": [
    "## Task 3\n",
    "### Neural Machine Translation(with new data)\n",
    "Add user information into previous system as new features, predict next city by translate user+city sequence to new city."
   ]
  },
  {
   "cell_type": "markdown",
   "metadata": {},
   "source": [
    "#### New data"
   ]
  },
  {
   "cell_type": "code",
   "execution_count": 16,
   "metadata": {},
   "outputs": [],
   "source": [
    "def get_user_city_pairs(df_tar):\n",
    "    with open('prev_user_city-next_city.txt','w') as f:\n",
    "        for uid,date,country,city in zip(df_tar.user_id.to_list(),\n",
    "                                         df_tar.joining_date.to_list(),\n",
    "                                         df_tar.country.to_list(),\n",
    "                                         df_tar.cities.to_list()):\n",
    "            user_info = [str(uid),str(date),str(country)]       \n",
    "            city_pair = city.split(', ')\n",
    "            row = user_info + city_pair\n",
    "            row = ' '.join(row[:-1])+'\\t'+row[-1]+'\\n'\n",
    "            f.write(row)\n",
    "    return prepareData('prev_user_city', 'next_city')"
   ]
  },
  {
   "cell_type": "markdown",
   "metadata": {},
   "source": [
    "Add user information before sequence of city."
   ]
  },
  {
   "cell_type": "code",
   "execution_count": 17,
   "metadata": {},
   "outputs": [
    {
     "name": "stdout",
     "output_type": "stream",
     "text": [
      "Reading lines...\n",
      "Read 6538 sentence pairs\n",
      "Trimmed to 6089 sentence pairs\n",
      "Counted words:\n",
      "prev_user_city 3971\n",
      "next_city 123\n",
      "Random sample: ['4286 2015-03-31 UK Detroit MI', 'Windsor ON']\n"
     ]
    }
   ],
   "source": [
    "input_lang2, output_lang2, train_pairs2 = get_user_city_pairs(df2_train)\n",
    "print('Random sample:',random.choice(train_pairs2))"
   ]
  },
  {
   "cell_type": "markdown",
   "metadata": {},
   "source": [
    "#### Same model"
   ]
  },
  {
   "cell_type": "code",
   "execution_count": 18,
   "metadata": {},
   "outputs": [
    {
     "data": {
      "text/plain": [
       "True"
      ]
     },
     "execution_count": 18,
     "metadata": {},
     "output_type": "execute_result"
    }
   ],
   "source": [
    "encoder2 = EncoderRNN(input_lang2.n_words, hidden_size).to(device)\n",
    "attn_decoder2 = AttnDecoderRNN(hidden_size, output_lang2.n_words, dropout_p=0.3).to(device)\n",
    "set_global_variables(train_pairs2, input_lang2, output_lang2, encoder2, attn_decoder2)"
   ]
  },
  {
   "cell_type": "code",
   "execution_count": 19,
   "metadata": {},
   "outputs": [
    {
     "name": "stdout",
     "output_type": "stream",
     "text": [
      "2m 23s (left: 69m 14s) (5000 3%) 1.8355\n",
      "4m 44s (left: 66m 17s) (10000 6%) 1.4664\n",
      "7m 4s (left: 63m 37s) (15000 10%) 1.3896\n",
      "9m 25s (left: 61m 16s) (20000 13%) 1.3347\n",
      "11m 46s (left: 58m 50s) (25000 16%) 1.2902\n",
      "14m 5s (left: 56m 22s) (30000 20%) 1.2301\n",
      "16m 26s (left: 54m 0s) (35000 23%) 1.1716\n",
      "18m 45s (left: 51m 36s) (40000 26%) 1.0984\n",
      "21m 9s (left: 49m 23s) (45000 30%) 0.9821\n",
      "23m 32s (left: 47m 5s) (50000 33%) 0.8960\n",
      "25m 58s (left: 44m 51s) (55000 36%) 0.7854\n",
      "28m 20s (left: 42m 31s) (60000 40%) 0.6910\n",
      "30m 41s (left: 40m 8s) (65000 43%) 0.5999\n",
      "33m 1s (left: 37m 44s) (70000 46%) 0.4711\n",
      "35m 21s (left: 35m 21s) (75000 50%) 0.3999\n",
      "37m 45s (left: 33m 2s) (80000 53%) 0.3538\n",
      "40m 6s (left: 30m 40s) (85000 56%) 0.2497\n",
      "42m 28s (left: 28m 19s) (90000 60%) 0.2301\n",
      "44m 50s (left: 25m 57s) (95000 63%) 0.1750\n",
      "47m 12s (left: 23m 36s) (100000 66%) 0.1389\n",
      "49m 32s (left: 21m 13s) (105000 70%) 0.1150\n",
      "51m 53s (left: 18m 52s) (110000 73%) 0.0856\n",
      "54m 14s (left: 16m 30s) (115000 76%) 0.0949\n",
      "56m 40s (left: 14m 10s) (120000 80%) 0.0820\n",
      "59m 4s (left: 11m 48s) (125000 83%) 0.0782\n",
      "61m 28s (left: 9m 27s) (130000 86%) 0.0708\n",
      "63m 49s (left: 7m 5s) (135000 90%) 0.0632\n",
      "66m 9s (left: 4m 43s) (140000 93%) 0.0533\n",
      "68m 31s (left: 2m 21s) (145000 96%) 0.0627\n",
      "70m 52s (left: 0m 0s) (150000 100%) 0.0564\n",
      "Accuracy of 6089(6089): 97.90%\n"
     ]
    },
    {
     "data": {
      "text/plain": [
       "<Figure size 432x288 with 0 Axes>"
      ]
     },
     "metadata": {},
     "output_type": "display_data"
    },
    {
     "data": {
      "image/png": "[encoded data removed]",
      "text/plain": [
       "<Figure size 432x288 with 1 Axes>"
      ]
     },
     "metadata": {
      "needs_background": "light"
     },
     "output_type": "display_data"
    }
   ],
   "source": [
    "trainIters(encoder2, attn_decoder2, n_iters=150000, print_every=5000, learning_rate=0.01)\n",
    "train_acc = calculate_accuracy(encoder2, attn_decoder2, train_pairs2)"
   ]
  },
  {
   "cell_type": "markdown",
   "metadata": {},
   "source": [
    "Prediction accuracy is better especially for short sequence."
   ]
  },
  {
   "cell_type": "code",
   "execution_count": 71,
   "metadata": {},
   "outputs": [
    {
     "name": "stdout",
     "output_type": "stream",
     "text": [
      "Reading lines...\n",
      "Read 2788 sentence pairs\n",
      "Trimmed to 2622 sentence pairs\n",
      "Counted words:\n",
      "prev_user_city 2292\n",
      "next_city 112\n",
      "Accuracy of 2622(2301): 80.01%\n",
      "Reading lines...\n",
      "Read 718 sentence pairs\n",
      "Trimmed to 552 sentence pairs\n",
      "Counted words:\n",
      "prev_user_city 676\n",
      "next_city 108\n",
      "Accuracy of 552(490): 85.10%\n",
      "Reading lines...\n",
      "Read 219 sentence pairs\n",
      "Trimmed to 53 sentence pairs\n",
      "Counted words:\n",
      "prev_user_city 152\n",
      "next_city 52\n",
      "Accuracy of 53(46): 84.78%\n"
     ]
    }
   ],
   "source": [
    "_,_,test_pairs2 = get_user_city_pairs(df2_test)\n",
    "test_acc = calculate_accuracy(encoder2, attn_decoder2, test_pairs2)\n",
    "_,_,test_pairs3 = get_user_city_pairs(df3_test)\n",
    "test_acc = calculate_accuracy(encoder2, attn_decoder2, test_pairs3)\n",
    "_,_,test_pairs4 = get_user_city_pairs(df4_test)\n",
    "test_acc = calculate_accuracy(encoder2, attn_decoder2, test_pairs4)"
   ]
  },
  {
   "cell_type": "markdown",
   "metadata": {},
   "source": [
    "#### New feature\n",
    "Furthermore, the model can predict next city without any given cities, since we have user information now."
   ]
  },
  {
   "cell_type": "code",
   "execution_count": 72,
   "metadata": {},
   "outputs": [
    {
     "name": "stdout",
     "output_type": "stream",
     "text": [
      "Reading lines...\n",
      "Read 6007 sentence pairs\n",
      "Trimmed to 5841 sentence pairs\n",
      "Counted words:\n",
      "prev_user_city 3908\n",
      "next_city 115\n",
      "Accuracy of 5841(4317): 46.37%\n"
     ]
    }
   ],
   "source": [
    "_,_,test_pairs1 = get_user_city_pairs(df1_test)\n",
    "test_acc = calculate_accuracy(encoder2, attn_decoder2, test_pairs1)"
   ]
  },
  {
   "cell_type": "markdown",
   "metadata": {},
   "source": [
    "#### Evaluation\n",
    "This model is very fast with very high accuracy."
   ]
  },
  {
   "cell_type": "code",
   "execution_count": 102,
   "metadata": {},
   "outputs": [
    {
     "name": "stdout",
     "output_type": "stream",
     "text": [
      "CPU times: user 0 ns, sys: 0 ns, total: 0 ns\n",
      "Wall time: 7.63 µs\n",
      ">>> 8770 2015-03-06 FR\n",
      "  = Toronto ON\n",
      "  > New York NY\n",
      "\n"
     ]
    }
   ],
   "source": [
    "%time\n",
    "set_global_variables(train_pairs2, input_lang2, output_lang2, encoder2, attn_decoder2)\n",
    "evaluate_randomly(encoder2, attn_decoder2, test_pairs1, n=1)"
   ]
  },
  {
   "cell_type": "code",
   "execution_count": 113,
   "metadata": {},
   "outputs": [
    {
     "name": "stdout",
     "output_type": "stream",
     "text": [
      ">>> 6637 2015-03-31 UNK New York NY\n",
      "  = Toronto ON\n",
      "  > Newark NJ\n",
      "\n",
      ">>> 8465 2015-03-22 IT OTTAWA ON Toronto ON\n",
      "  = New York NY\n",
      "  > New York NY\n",
      "\n",
      ">>> 6810 2015-03-22 UK Philadelphia PA\n",
      "  = Montreal QC\n",
      "  > Montreal QC\n",
      "\n",
      ">>> 9004 2015-03-18 UK Toronto ON\n",
      "  = Oshawa ON\n",
      "  > Oshawa ON\n",
      "\n",
      ">>> 10260 2015-03-27 FR Philadelphia PA Newark NJ\n",
      "  = New York NY\n",
      "  > New York NY\n",
      "\n"
     ]
    }
   ],
   "source": [
    "evaluate_randomly(encoder2, attn_decoder2, test_pairs2, n=5)"
   ]
  },
  {
   "cell_type": "code",
   "execution_count": 116,
   "metadata": {},
   "outputs": [
    {
     "name": "stdout",
     "output_type": "stream",
     "text": [
      ">>> 3151 2015-03-23 ES San Diego CA New York NY\n",
      "  = Los Angeles CA\n",
      "  > Los Angeles CA\n"
     ]
    },
    {
     "data": {
      "image/png": "[encoded data removed]",
      "text/plain": [
       "<Figure size 432x288 with 2 Axes>"
      ]
     },
     "metadata": {
      "needs_background": "light"
     },
     "output_type": "display_data"
    }
   ],
   "source": [
    "evaluate_and_show_attention(random.choice(test_pairs2))"
   ]
  },
  {
   "cell_type": "markdown",
   "metadata": {},
   "source": [
    "## Task 4\n",
    "Evaluation metrics for different models."
   ]
  },
  {
   "cell_type": "markdown",
   "metadata": {},
   "source": [
    "### 4.1 Frequent Itemset"
   ]
  },
  {
   "cell_type": "markdown",
   "metadata": {},
   "source": [
    "#### Support and confidence\n",
    "Use support to find frequent threshold, use condfidence to find assosiation rules."
   ]
  },
  {
   "cell_type": "markdown",
   "metadata": {},
   "source": [
    "### 4.2 Language Modeling"
   ]
  },
  {
   "cell_type": "markdown",
   "metadata": {},
   "source": [
    "#### Perplexity\n",
    "Train the model to minimize perplexity, use this metirc to evalute generated city sequence performance."
   ]
  },
  {
   "cell_type": "markdown",
   "metadata": {},
   "source": [
    "#### Accuracy\n",
    "Use accuracy to evaluate the performance of the prediction of the last city."
   ]
  },
  {
   "cell_type": "markdown",
   "metadata": {},
   "source": [
    "### 4.3 Neural Machine Translation"
   ]
  },
  {
   "cell_type": "markdown",
   "metadata": {},
   "source": [
    "#### Accuracy\n",
    "Treat each city as a class, solve the classification problem using NMT."
   ]
  },
  {
   "cell_type": "markdown",
   "metadata": {},
   "source": [
    "#### *BLEU\n",
    "If we train the model with variable input and output length, we could use BLEU(Bilingual Evaluation Understudy) score to eavaluate the model."
   ]
  },
  {
   "cell_type": "markdown",
   "metadata": {},
   "source": [
    "### 4.4 Others"
   ]
  },
  {
   "cell_type": "markdown",
   "metadata": {},
   "source": [
    "#### ROC/PR curve\n",
    "For other classification problems in task 1, we could use area under the curve to evaluate models."
   ]
  },
  {
   "cell_type": "markdown",
   "metadata": {},
   "source": [
    "#### Confusion matrix\n",
    "For imblanced data, we can use CM to check recall rate of different classes."
   ]
  },
  {
   "cell_type": "markdown",
   "metadata": {},
   "source": [
    "#### Clustering evaluation\n",
    "Visualize the embedding of high dimension data to see the cluster performance."
   ]
  },
  {
   "cell_type": "markdown",
   "metadata": {},
   "source": [
    "#### Time/Memory consumption\n",
    "Sometimes we also need to take consideration of time/memory consumption of different models."
   ]
  }
 ],
 "metadata": {
  "kernelspec": {
   "display_name": "Python 3",
   "language": "python",
   "name": "python3"
  },
  "language_info": {
   "codemirror_mode": {
    "name": "ipython",
    "version": 3
   },
   "file_extension": ".py",
   "mimetype": "text/x-python",
   "name": "python",
   "nbconvert_exporter": "python",
   "pygments_lexer": "ipython3",
   "version": "3.8.1"
  }
 },
 "nbformat": 4,
 "nbformat_minor": 4
}
