{
 "cells": [
  {
   "cell_type": "code",
   "execution_count": 1,
   "metadata": {
    "collapsed": true,
    "jupyter": {
     "outputs_hidden": true
    }
   },
   "outputs": [
    {
     "name": "stdout",
     "output_type": "stream",
     "text": [
      "-----------------------------------------------------------------------------------------\n",
      "| end of epoch   1 | time: 31.85s | valid loss  2.44 | valid ppl    11.45\n",
      "-----------------------------------------------------------------------------------------\n",
      "-----------------------------------------------------------------------------------------\n",
      "| end of epoch   2 | time: 39.84s | valid loss  1.34 | valid ppl     3.82\n",
      "-----------------------------------------------------------------------------------------\n",
      "-----------------------------------------------------------------------------------------\n",
      "| end of epoch   3 | time: 43.92s | valid loss  1.21 | valid ppl     3.34\n",
      "-----------------------------------------------------------------------------------------\n",
      "-----------------------------------------------------------------------------------------\n",
      "| end of epoch   4 | time: 45.76s | valid loss  1.11 | valid ppl     3.04\n",
      "-----------------------------------------------------------------------------------------\n",
      "-----------------------------------------------------------------------------------------\n",
      "| end of epoch   5 | time: 37.26s | valid loss  1.10 | valid ppl     3.01\n",
      "-----------------------------------------------------------------------------------------\n",
      "-----------------------------------------------------------------------------------------\n",
      "| end of epoch   6 | time: 36.63s | valid loss  1.08 | valid ppl     2.93\n",
      "-----------------------------------------------------------------------------------------\n",
      "-----------------------------------------------------------------------------------------\n",
      "| end of epoch   7 | time: 40.86s | valid loss  1.07 | valid ppl     2.91\n",
      "-----------------------------------------------------------------------------------------\n",
      "-----------------------------------------------------------------------------------------\n",
      "| end of epoch   8 | time: 39.81s | valid loss  1.06 | valid ppl     2.88\n",
      "-----------------------------------------------------------------------------------------\n",
      "-----------------------------------------------------------------------------------------\n",
      "| end of epoch   9 | time: 36.35s | valid loss  1.05 | valid ppl     2.86\n",
      "-----------------------------------------------------------------------------------------\n",
      "-----------------------------------------------------------------------------------------\n",
      "| end of epoch  10 | time: 36.04s | valid loss  1.05 | valid ppl     2.85\n",
      "-----------------------------------------------------------------------------------------\n",
      "-----------------------------------------------------------------------------------------\n",
      "| end of epoch  11 | time: 37.80s | valid loss  1.04 | valid ppl     2.83\n",
      "-----------------------------------------------------------------------------------------\n",
      "-----------------------------------------------------------------------------------------\n",
      "| end of epoch  12 | time: 34.18s | valid loss  1.04 | valid ppl     2.84\n",
      "-----------------------------------------------------------------------------------------\n",
      "-----------------------------------------------------------------------------------------\n",
      "Exiting from training early\n",
      "=========================================================================================\n",
      "| End of training | test loss  1.03 | test ppl     2.80\n",
      "=========================================================================================\n"
     ]
    }
   ],
   "source": [
    "# %run main --data './data/city' --epochs 10\n",
    "%run main --data './data/city' --emsize 650 --nhid 650 --dropout 0.5 --epochs 40 --tied"
   ]
  },
  {
   "cell_type": "code",
   "execution_count": 8,
   "metadata": {
    "collapsed": true,
    "jupyter": {
     "outputs_hidden": true
    }
   },
   "outputs": [],
   "source": [
    "import numpy as np"
   ]
  },
  {
   "cell_type": "code",
   "execution_count": 9,
   "metadata": {
    "collapsed": true,
    "jupyter": {
     "outputs_hidden": true
    }
   },
   "outputs": [],
   "source": [
    "def predict_next_city(previous):\n",
    "    model = None\n",
    "    with open('./model.pt', 'rb') as f:\n",
    "        model = torch.load(f).to(device)\n",
    "    model.eval()    \n",
    "    hidden = model.init_hidden(1)\n",
    "    input = None\n",
    "    next_city = []\n",
    "\n",
    "    with torch.no_grad():\n",
    "        for p in previous[:-1]:\n",
    "            index = corpus.dictionary.word2idx[p]\n",
    "            input = torch.randint(index,index+1, (1, 1), dtype=torch.long).to(device)\n",
    "            _, hidden = model(input, hidden)\n",
    "            \n",
    "        index = corpus.dictionary.word2idx[previous[-1]]\n",
    "        input = torch.randint(index,index+1, (1, 1), dtype=torch.long).to(device)            \n",
    "        while True:\n",
    "            output, hidden = model(input, hidden)\n",
    "            word_weights = output.squeeze().div(1.0).exp().cpu()\n",
    "            word_idx = torch.multinomial(word_weights, 1)[0]\n",
    "            input.fill_(word_idx)\n",
    "            word = corpus.dictionary.idx2word[word_idx]\n",
    "            if word == '<eos>':\n",
    "                if len(next_city)==0:\n",
    "                    continue\n",
    "                else:\n",
    "                    break\n",
    "            next_city.append(word)\n",
    "                \n",
    "        return next_city"
   ]
  },
  {
   "cell_type": "code",
   "execution_count": 10,
   "metadata": {
    "collapsed": true,
    "jupyter": {
     "outputs_hidden": true
    }
   },
   "outputs": [],
   "source": [
    "test_lines = None\n",
    "train_lines = None\n",
    "\n",
    "with open('./data/city/test.txt') as f:\n",
    "    test_lines = f.readlines()\n",
    "    \n",
    "with open('./data/city/train.txt') as f:\n",
    "    train_lines = f.readlines()    "
   ]
  },
  {
   "cell_type": "code",
   "execution_count": 11,
   "metadata": {
    "collapsed": true,
    "jupyter": {
     "outputs_hidden": true
    }
   },
   "outputs": [],
   "source": [
    "def random_query(lines):\n",
    "    line = np.random.choice(lines)\n",
    "    query = line.split('  ')[0].split()\n",
    "    true = line.split('  ')[-1][:-1]\n",
    "    pred = ' '.join(predict_next_city(query))\n",
    "    print('Query:',' '.join(query))\n",
    "    print('     =',true)\n",
    "    print('     >',pred)\n",
    "    print(true in pred)"
   ]
  },
  {
   "cell_type": "code",
   "execution_count": 22,
   "metadata": {
    "collapsed": true,
    "jupyter": {
     "outputs_hidden": true
    }
   },
   "outputs": [
    {
     "name": "stdout",
     "output_type": "stream",
     "text": [
      "Query: San Antonio TX, Austin TX,\n",
      "     = Houston TX,\n",
      "     > Chicago IL, Milwaukee WI,\n",
      "False\n"
     ]
    }
   ],
   "source": [
    "random_query(train_lines)"
   ]
  },
  {
   "cell_type": "code",
   "execution_count": 23,
   "metadata": {
    "collapsed": true,
    "jupyter": {
     "outputs_hidden": true
    }
   },
   "outputs": [
    {
     "name": "stdout",
     "output_type": "stream",
     "text": [
      "100\n",
      "200\n",
      "300\n",
      "400\n",
      "500\n",
      "600\n",
      "700\n",
      "800\n",
      "900\n",
      "1000\n",
      "1100\n",
      "1200\n",
      "1300\n",
      "1400\n",
      "1500\n",
      "1600\n",
      "1700\n",
      "1800\n",
      "1900\n",
      "2000\n",
      "2100\n",
      "2200\n",
      "2300\n",
      "2400\n",
      "2500\n",
      "2600\n",
      "2700\n",
      "2800\n",
      "2900\n",
      "3000\n",
      "3100\n",
      "3200\n",
      "3300\n",
      "3400\n",
      "3500\n",
      "3600\n",
      "3700\n",
      "3800\n",
      "3900\n",
      "4000\n",
      "4100\n",
      "4200\n",
      "4300\n",
      "4400\n",
      "4500\n",
      "4600\n",
      "4700\n",
      "4800\n",
      "4900\n",
      "5000\n",
      "5100\n",
      "5200\n",
      "5300\n",
      "5400\n",
      "5500\n",
      "5600\n",
      "5700\n",
      "5800\n"
     ]
    }
   ],
   "source": [
    "total = 0\n",
    "correct = 0\n",
    "\n",
    "for line in train_lines:\n",
    "    query = line.split('  ')[0].split()\n",
    "    true = line.split('  ')[-1][:-1]\n",
    "    pred = ' '.join(predict_next_city(query))\n",
    "    if true in pred:\n",
    "        correct += 1\n",
    "    total +=1"
   ]
  },
  {
   "cell_type": "code",
   "execution_count": 24,
   "metadata": {
    "collapsed": true,
    "jupyter": {
     "outputs_hidden": true
    }
   },
   "outputs": [
    {
     "data": {
      "text/plain": [
       "12.920203735144312"
      ]
     },
     "execution_count": 24,
     "metadata": {},
     "output_type": "execute_result"
    }
   ],
   "source": [
    "correct*100.0 / total"
   ]
  }
 ],
 "metadata": {
  "kernelspec": {
   "display_name": "Python 3",
   "language": "python",
   "name": "python3"
  },
  "language_info": {
   "codemirror_mode": {
    "name": "ipython",
    "version": 3
   },
   "file_extension": ".py",
   "mimetype": "text/x-python",
   "name": "python",
   "nbconvert_exporter": "python",
   "pygments_lexer": "ipython3",
   "version": "3.8.1"
  }
 },
 "nbformat": 4,
 "nbformat_minor": 4
}
